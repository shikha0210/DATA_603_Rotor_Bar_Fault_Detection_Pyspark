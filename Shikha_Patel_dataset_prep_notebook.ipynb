{
  "cells": [
    {
      "cell_type": "markdown",
      "source": [
        "### This file contains the code to convert the .mat (MATLAB) files into .CSV files"
      ],
      "metadata": {
        "id": "DJDVTpzMRbGE"
      },
      "id": "DJDVTpzMRbGE"
    },
    {
      "cell_type": "code",
      "execution_count": null,
      "id": "b59f0ee1",
      "metadata": {
        "id": "b59f0ee1"
      },
      "outputs": [],
      "source": [
        "# importing required dependecies\n",
        "import pandas as pd\n",
        "import numpy as np\n",
        "import scipy.io\n",
        "import h5py"
      ]
    },
    {
      "cell_type": "code",
      "execution_count": null,
      "id": "29bd2750",
      "metadata": {
        "id": "29bd2750",
        "outputId": "6a62e514-854b-4237-97ed-1285e8537282"
      },
      "outputs": [
        {
          "name": "stdout",
          "output_type": "stream",
          "text": [
            "rs ['#refs#', 'rs']\n",
            "r1b ['#refs#', 'r1b']\n",
            "r2b ['#refs#', 'r2b']\n",
            "r3b ['#refs#', 'r3b']\n",
            "r4b ['#refs#', 'r4b']\n"
          ]
        }
      ],
      "source": [
        "# reading the .mat files for all the motors\n",
        "fs = h5py.File('struct_rs_R1.mat','r')\n",
        "print('rs',list(fs.keys()))\n",
        "f1 = h5py.File('struct_r1b_R1.mat','r')\n",
        "print('r1b',list(f1.keys()))\n",
        "f2 = h5py.File('struct_r2b_R1.mat','r')\n",
        "print('r2b',list(f2.keys()))\n",
        "f3 = h5py.File('struct_r3b_R1.mat','r')\n",
        "print('r3b',list(f3.keys()))\n",
        "f4 = h5py.File('struct_r4b_R1.mat','r')\n",
        "print('r4b',list(f4.keys()))"
      ]
    },
    {
      "cell_type": "code",
      "execution_count": null,
      "id": "de7837e0",
      "metadata": {
        "id": "de7837e0",
        "outputId": "ae690b09-7fce-42c9-d729-aaa470288ac3"
      },
      "outputs": [
        {
          "name": "stdout",
          "output_type": "stream",
          "text": [
            "[[ 0.01666667  0.00833333  0.         ... -1.166667   -1.158333\n",
            "  -1.154167  ]]\n"
          ]
        },
        {
          "name": "stderr",
          "output_type": "stream",
          "text": [
            "<ipython-input-3-b0a40e40b6cf>:1: H5pyDeprecationWarning: dataset.value has been deprecated. Use dataset[()] instead.\n",
            "  print(fs[fs['rs']['torque05']['Ia'][0,0]].value)\n"
          ]
        }
      ],
      "source": [
        "print(fs[fs['rs']['torque05']['Ia'][0,0]].value)"
      ]
    },
    {
      "cell_type": "code",
      "execution_count": null,
      "id": "bf0b0405",
      "metadata": {
        "id": "bf0b0405",
        "outputId": "ea2d9fa8-3dd4-4bf3-9f2b-2d6553d64471"
      },
      "outputs": [
        {
          "name": "stderr",
          "output_type": "stream",
          "text": [
            "<ipython-input-4-1b15ae30a198>:1: H5pyDeprecationWarning: dataset.value has been deprecated. Use dataset[()] instead.\n",
            "  a1 = pd.DataFrame(np.array(fs[fs['rs']['torque05']['Ia'][0,0]].value))\n"
          ]
        }
      ],
      "source": [
        "a1 = pd.DataFrame(np.array(fs[fs['rs']['torque05']['Ia'][0,0]].value))"
      ]
    },
    {
      "cell_type": "code",
      "execution_count": null,
      "id": "d815b8de",
      "metadata": {
        "id": "d815b8de",
        "outputId": "c171aae9-9e1c-4feb-d014-4ef63ea696f2"
      },
      "outputs": [
        {
          "name": "stdout",
          "output_type": "stream",
          "text": [
            "    0         1        2         3         4         5        6        \\\n",
            "0  0.016667  0.008333      0.0 -0.008333  0.004167 -0.004167      0.0   \n",
            "\n",
            "    7        8         9        ...   1000990  1000991  1000992  1000993  \\\n",
            "0 -0.008333   0.0125  0.004167  ... -1.170833   -1.175   -1.175   -1.175   \n",
            "\n",
            "    1000994   1000995  1000996   1000997   1000998   1000999  \n",
            "0 -1.158333 -1.166667  -1.1625 -1.166667 -1.158333 -1.154167  \n",
            "\n",
            "[1 rows x 1001000 columns]\n"
          ]
        }
      ],
      "source": [
        "print(a1)"
      ]
    },
    {
      "cell_type": "code",
      "execution_count": null,
      "id": "f61564f5",
      "metadata": {
        "id": "f61564f5",
        "outputId": "50c00b1d-eea7-433b-970e-e86f45d7dd8e"
      },
      "outputs": [
        {
          "name": "stdout",
          "output_type": "stream",
          "text": [
            "(1, 1001000)\n"
          ]
        }
      ],
      "source": [
        "print(a1.shape)"
      ]
    },
    {
      "cell_type": "code",
      "execution_count": null,
      "id": "4d3b69b4",
      "metadata": {
        "id": "4d3b69b4",
        "outputId": "e677393e-20bf-422c-ba01-05288299dbc6"
      },
      "outputs": [
        {
          "name": "stderr",
          "output_type": "stream",
          "text": [
            "<ipython-input-7-f95abe4a173e>:16: H5pyDeprecationWarning: dataset.value has been deprecated. Use dataset[()] instead.\n",
            "  dsIa[\"Ia\" + str(i+1)] = pd.DataFrame(np.array(fs[fs['rs']['torque05']['Ia'][i,0]].value))\n",
            "<ipython-input-7-f95abe4a173e>:17: H5pyDeprecationWarning: dataset.value has been deprecated. Use dataset[()] instead.\n",
            "  dsIb[\"Ib\" + str(i+1)] = pd.DataFrame(np.array(fs[fs['rs']['torque05']['Ib'][i,0]].value))\n",
            "<ipython-input-7-f95abe4a173e>:18: H5pyDeprecationWarning: dataset.value has been deprecated. Use dataset[()] instead.\n",
            "  dsIc[\"Ic\" + str(i+1)] = pd.DataFrame(np.array(fs[fs['rs']['torque05']['Ic'][i,0]].value))\n",
            "<ipython-input-7-f95abe4a173e>:19: H5pyDeprecationWarning: dataset.value has been deprecated. Use dataset[()] instead.\n",
            "  dsVa[\"Va\" + str(i+1)] = pd.DataFrame(np.array(fs[fs['rs']['torque05']['Va'][i,0]].value))\n",
            "<ipython-input-7-f95abe4a173e>:20: H5pyDeprecationWarning: dataset.value has been deprecated. Use dataset[()] instead.\n",
            "  dsVb[\"Vb\" + str(i+1)] = pd.DataFrame(np.array(fs[fs['rs']['torque05']['Vb'][i,0]].value))\n",
            "<ipython-input-7-f95abe4a173e>:21: H5pyDeprecationWarning: dataset.value has been deprecated. Use dataset[()] instead.\n",
            "  dsVc[\"Vc\" + str(i+1)] = pd.DataFrame(np.array(fs[fs['rs']['torque05']['Vc'][i,0]].value))\n",
            "<ipython-input-7-f95abe4a173e>:22: H5pyDeprecationWarning: dataset.value has been deprecated. Use dataset[()] instead.\n",
            "  dsTrig[\"Trig\" + str(i+1)] = pd.DataFrame(np.array(fs[fs['rs']['torque05']['Trigger'][i,0]].value))\n",
            "<ipython-input-7-f95abe4a173e>:23: H5pyDeprecationWarning: dataset.value has been deprecated. Use dataset[()] instead.\n",
            "  dsVib_acpe[\"Vib_acpe\" + str(i+1)] = pd.DataFrame(np.array(fs[fs['rs']['torque05']['Vib_acpe'][i,0]].value))\n",
            "<ipython-input-7-f95abe4a173e>:24: H5pyDeprecationWarning: dataset.value has been deprecated. Use dataset[()] instead.\n",
            "  dsVib_carc[\"Vib_carc\" + str(i+1)] = pd.DataFrame(np.array(fs[fs['rs']['torque05']['Vib_carc'][i,0]].value))\n",
            "<ipython-input-7-f95abe4a173e>:25: H5pyDeprecationWarning: dataset.value has been deprecated. Use dataset[()] instead.\n",
            "  dsVib_acpi[\"Vib_acpi\" + str(i+1)] = pd.DataFrame(np.array(fs[fs['rs']['torque05']['Vib_acpi'][i,0]].value))\n",
            "<ipython-input-7-f95abe4a173e>:26: H5pyDeprecationWarning: dataset.value has been deprecated. Use dataset[()] instead.\n",
            "  dsVib_axial[\"Vib_axial\" + str(i+1)] = pd.DataFrame(np.array(fs[fs['rs']['torque05']['Vib_axial'][i,0]].value))\n",
            "<ipython-input-7-f95abe4a173e>:27: H5pyDeprecationWarning: dataset.value has been deprecated. Use dataset[()] instead.\n",
            "  dsVib_base[\"Vib_base\" + str(i+1)] = pd.DataFrame(np.array(fs[fs['rs']['torque05']['Vib_base'][i,0]].value))\n"
          ]
        }
      ],
      "source": [
        "# saving the values of Ia, Ib, Ic, Va, Vb, Vc, Trigger, Vib_acpe, Vib_carc, Vib_acpi, Vib_axial, Vib_base for all 10 experiments\n",
        "# one dictionary for each variable for RS\n",
        "dsIa = {}\n",
        "dsIb = {}\n",
        "dsIc = {}\n",
        "dsVa = {}\n",
        "dsVb = {}\n",
        "dsVc = {}\n",
        "dsTrig = {}\n",
        "dsVib_acpe = {}\n",
        "dsVib_carc = {}\n",
        "dsVib_acpi = {}\n",
        "dsVib_axial = {}\n",
        "dsVib_base = {}\n",
        "for i in range(10):\n",
        "    dsIa[\"Ia\" + str(i+1)] = pd.DataFrame(np.array(fs[fs['rs']['torque05']['Ia'][i,0]].value))\n",
        "    dsIb[\"Ib\" + str(i+1)] = pd.DataFrame(np.array(fs[fs['rs']['torque05']['Ib'][i,0]].value))\n",
        "    dsIc[\"Ic\" + str(i+1)] = pd.DataFrame(np.array(fs[fs['rs']['torque05']['Ic'][i,0]].value))\n",
        "    dsVa[\"Va\" + str(i+1)] = pd.DataFrame(np.array(fs[fs['rs']['torque05']['Va'][i,0]].value))\n",
        "    dsVb[\"Vb\" + str(i+1)] = pd.DataFrame(np.array(fs[fs['rs']['torque05']['Vb'][i,0]].value))\n",
        "    dsVc[\"Vc\" + str(i+1)] = pd.DataFrame(np.array(fs[fs['rs']['torque05']['Vc'][i,0]].value))\n",
        "    dsTrig[\"Trig\" + str(i+1)] = pd.DataFrame(np.array(fs[fs['rs']['torque05']['Trigger'][i,0]].value))\n",
        "    dsVib_acpe[\"Vib_acpe\" + str(i+1)] = pd.DataFrame(np.array(fs[fs['rs']['torque05']['Vib_acpe'][i,0]].value))\n",
        "    dsVib_carc[\"Vib_carc\" + str(i+1)] = pd.DataFrame(np.array(fs[fs['rs']['torque05']['Vib_carc'][i,0]].value))\n",
        "    dsVib_acpi[\"Vib_acpi\" + str(i+1)] = pd.DataFrame(np.array(fs[fs['rs']['torque05']['Vib_acpi'][i,0]].value))\n",
        "    dsVib_axial[\"Vib_axial\" + str(i+1)] = pd.DataFrame(np.array(fs[fs['rs']['torque05']['Vib_axial'][i,0]].value))\n",
        "    dsVib_base[\"Vib_base\" + str(i+1)] = pd.DataFrame(np.array(fs[fs['rs']['torque05']['Vib_base'][i,0]].value))"
      ]
    },
    {
      "cell_type": "code",
      "execution_count": null,
      "id": "aa907511",
      "metadata": {
        "id": "aa907511",
        "outputId": "b51518b9-493b-4ebb-fb25-7907c56f1dc3"
      },
      "outputs": [
        {
          "name": "stderr",
          "output_type": "stream",
          "text": [
            "<ipython-input-8-27f4d58f5a7a>:16: H5pyDeprecationWarning: dataset.value has been deprecated. Use dataset[()] instead.\n",
            "  d1Ia[\"Ia\" + str(i+1)] = pd.DataFrame(np.array(f1[f1['r1b']['torque05']['Ia'][i,0]].value))\n",
            "<ipython-input-8-27f4d58f5a7a>:17: H5pyDeprecationWarning: dataset.value has been deprecated. Use dataset[()] instead.\n",
            "  d1Ib[\"Ib\" + str(i+1)] = pd.DataFrame(np.array(f1[f1['r1b']['torque05']['Ib'][i,0]].value))\n",
            "<ipython-input-8-27f4d58f5a7a>:18: H5pyDeprecationWarning: dataset.value has been deprecated. Use dataset[()] instead.\n",
            "  d1Ic[\"Ic\" + str(i+1)] = pd.DataFrame(np.array(f1[f1['r1b']['torque05']['Ic'][i,0]].value))\n",
            "<ipython-input-8-27f4d58f5a7a>:19: H5pyDeprecationWarning: dataset.value has been deprecated. Use dataset[()] instead.\n",
            "  d1Va[\"Va\" + str(i+1)] = pd.DataFrame(np.array(f1[f1['r1b']['torque05']['Va'][i,0]].value))\n",
            "<ipython-input-8-27f4d58f5a7a>:20: H5pyDeprecationWarning: dataset.value has been deprecated. Use dataset[()] instead.\n",
            "  d1Vb[\"Vb\" + str(i+1)] = pd.DataFrame(np.array(f1[f1['r1b']['torque05']['Vb'][i,0]].value))\n",
            "<ipython-input-8-27f4d58f5a7a>:21: H5pyDeprecationWarning: dataset.value has been deprecated. Use dataset[()] instead.\n",
            "  d1Vc[\"Vc\" + str(i+1)] = pd.DataFrame(np.array(f1[f1['r1b']['torque05']['Vc'][i,0]].value))\n",
            "<ipython-input-8-27f4d58f5a7a>:22: H5pyDeprecationWarning: dataset.value has been deprecated. Use dataset[()] instead.\n",
            "  d1Trig[\"Trig\" + str(i+1)] = pd.DataFrame(np.array(f1[f1['r1b']['torque05']['Trigger'][i,0]].value))\n",
            "<ipython-input-8-27f4d58f5a7a>:23: H5pyDeprecationWarning: dataset.value has been deprecated. Use dataset[()] instead.\n",
            "  d1Vib_acpe[\"Vib_acpe\" + str(i+1)] = pd.DataFrame(np.array(f1[f1['r1b']['torque05']['Vib_acpe'][i,0]].value))\n",
            "<ipython-input-8-27f4d58f5a7a>:24: H5pyDeprecationWarning: dataset.value has been deprecated. Use dataset[()] instead.\n",
            "  d1Vib_carc[\"Vib_carc\" + str(i+1)] = pd.DataFrame(np.array(f1[f1['r1b']['torque05']['Vib_carc'][i,0]].value))\n",
            "<ipython-input-8-27f4d58f5a7a>:25: H5pyDeprecationWarning: dataset.value has been deprecated. Use dataset[()] instead.\n",
            "  d1Vib_acpi[\"Vib_acpi\" + str(i+1)] = pd.DataFrame(np.array(f1[f1['r1b']['torque05']['Vib_acpi'][i,0]].value))\n",
            "<ipython-input-8-27f4d58f5a7a>:26: H5pyDeprecationWarning: dataset.value has been deprecated. Use dataset[()] instead.\n",
            "  d1Vib_axial[\"Vib_axial\" + str(i+1)] = pd.DataFrame(np.array(f1[f1['r1b']['torque05']['Vib_axial'][i,0]].value))\n",
            "<ipython-input-8-27f4d58f5a7a>:27: H5pyDeprecationWarning: dataset.value has been deprecated. Use dataset[()] instead.\n",
            "  d1Vib_base[\"Vib_base\" + str(i+1)] = pd.DataFrame(np.array(f1[f1['r1b']['torque05']['Vib_base'][i,0]].value))\n"
          ]
        }
      ],
      "source": [
        "# saving the values of Ia, Ib, Ic, Va, Vb, Vc, Trigger, Vib_acpe, Vib_carc, Vib_acpi, Vib_axial, Vib_base for all 10 experiments\n",
        "# one dictionary for each variable for R1B\n",
        "d1Ia = {}\n",
        "d1Ib = {}\n",
        "d1Ic = {}\n",
        "d1Va = {}\n",
        "d1Vb = {}\n",
        "d1Vc = {}\n",
        "d1Trig = {}\n",
        "d1Vib_acpe = {}\n",
        "d1Vib_carc = {}\n",
        "d1Vib_acpi = {}\n",
        "d1Vib_axial = {}\n",
        "d1Vib_base = {}\n",
        "for i in range(10):\n",
        "    d1Ia[\"Ia\" + str(i+1)] = pd.DataFrame(np.array(f1[f1['r1b']['torque05']['Ia'][i,0]].value))\n",
        "    d1Ib[\"Ib\" + str(i+1)] = pd.DataFrame(np.array(f1[f1['r1b']['torque05']['Ib'][i,0]].value))\n",
        "    d1Ic[\"Ic\" + str(i+1)] = pd.DataFrame(np.array(f1[f1['r1b']['torque05']['Ic'][i,0]].value))\n",
        "    d1Va[\"Va\" + str(i+1)] = pd.DataFrame(np.array(f1[f1['r1b']['torque05']['Va'][i,0]].value))\n",
        "    d1Vb[\"Vb\" + str(i+1)] = pd.DataFrame(np.array(f1[f1['r1b']['torque05']['Vb'][i,0]].value))\n",
        "    d1Vc[\"Vc\" + str(i+1)] = pd.DataFrame(np.array(f1[f1['r1b']['torque05']['Vc'][i,0]].value))\n",
        "    d1Trig[\"Trig\" + str(i+1)] = pd.DataFrame(np.array(f1[f1['r1b']['torque05']['Trigger'][i,0]].value))\n",
        "    d1Vib_acpe[\"Vib_acpe\" + str(i+1)] = pd.DataFrame(np.array(f1[f1['r1b']['torque05']['Vib_acpe'][i,0]].value))\n",
        "    d1Vib_carc[\"Vib_carc\" + str(i+1)] = pd.DataFrame(np.array(f1[f1['r1b']['torque05']['Vib_carc'][i,0]].value))\n",
        "    d1Vib_acpi[\"Vib_acpi\" + str(i+1)] = pd.DataFrame(np.array(f1[f1['r1b']['torque05']['Vib_acpi'][i,0]].value))\n",
        "    d1Vib_axial[\"Vib_axial\" + str(i+1)] = pd.DataFrame(np.array(f1[f1['r1b']['torque05']['Vib_axial'][i,0]].value))\n",
        "    d1Vib_base[\"Vib_base\" + str(i+1)] = pd.DataFrame(np.array(f1[f1['r1b']['torque05']['Vib_base'][i,0]].value))"
      ]
    },
    {
      "cell_type": "code",
      "execution_count": null,
      "id": "e31c58d3",
      "metadata": {
        "id": "e31c58d3",
        "outputId": "0b8f9017-3a8d-4c7b-ddbf-a540a18a6f3a"
      },
      "outputs": [
        {
          "name": "stderr",
          "output_type": "stream",
          "text": [
            "<ipython-input-9-654815eadeb5>:16: H5pyDeprecationWarning: dataset.value has been deprecated. Use dataset[()] instead.\n",
            "  d2Ia[\"Ia\" + str(i+1)] = pd.DataFrame(np.array(f2[f2['r2b']['torque05']['Ia'][i,0]].value))\n",
            "<ipython-input-9-654815eadeb5>:17: H5pyDeprecationWarning: dataset.value has been deprecated. Use dataset[()] instead.\n",
            "  d2Ib[\"Ib\" + str(i+1)] = pd.DataFrame(np.array(f2[f2['r2b']['torque05']['Ib'][i,0]].value))\n",
            "<ipython-input-9-654815eadeb5>:18: H5pyDeprecationWarning: dataset.value has been deprecated. Use dataset[()] instead.\n",
            "  d2Ic[\"Ic\" + str(i+1)] = pd.DataFrame(np.array(f2[f2['r2b']['torque05']['Ic'][i,0]].value))\n",
            "<ipython-input-9-654815eadeb5>:19: H5pyDeprecationWarning: dataset.value has been deprecated. Use dataset[()] instead.\n",
            "  d2Va[\"Va\" + str(i+1)] = pd.DataFrame(np.array(f2[f2['r2b']['torque05']['Va'][i,0]].value))\n",
            "<ipython-input-9-654815eadeb5>:20: H5pyDeprecationWarning: dataset.value has been deprecated. Use dataset[()] instead.\n",
            "  d2Vb[\"Vb\" + str(i+1)] = pd.DataFrame(np.array(f2[f2['r2b']['torque05']['Vb'][i,0]].value))\n",
            "<ipython-input-9-654815eadeb5>:21: H5pyDeprecationWarning: dataset.value has been deprecated. Use dataset[()] instead.\n",
            "  d2Vc[\"Vc\" + str(i+1)] = pd.DataFrame(np.array(f2[f2['r2b']['torque05']['Vc'][i,0]].value))\n",
            "<ipython-input-9-654815eadeb5>:22: H5pyDeprecationWarning: dataset.value has been deprecated. Use dataset[()] instead.\n",
            "  d2Trig[\"Trig\" + str(i+1)] = pd.DataFrame(np.array(f2[f2['r2b']['torque05']['Trigger'][i,0]].value))\n",
            "<ipython-input-9-654815eadeb5>:23: H5pyDeprecationWarning: dataset.value has been deprecated. Use dataset[()] instead.\n",
            "  d2Vib_acpe[\"Vib_acpe\" + str(i+1)] = pd.DataFrame(np.array(f2[f2['r2b']['torque05']['Vib_acpe'][i,0]].value))\n",
            "<ipython-input-9-654815eadeb5>:24: H5pyDeprecationWarning: dataset.value has been deprecated. Use dataset[()] instead.\n",
            "  d2Vib_carc[\"Vib_carc\" + str(i+1)] = pd.DataFrame(np.array(f2[f2['r2b']['torque05']['Vib_carc'][i,0]].value))\n",
            "<ipython-input-9-654815eadeb5>:25: H5pyDeprecationWarning: dataset.value has been deprecated. Use dataset[()] instead.\n",
            "  d2Vib_acpi[\"Vib_acpi\" + str(i+1)] = pd.DataFrame(np.array(f2[f2['r2b']['torque05']['Vib_acpi'][i,0]].value))\n",
            "<ipython-input-9-654815eadeb5>:26: H5pyDeprecationWarning: dataset.value has been deprecated. Use dataset[()] instead.\n",
            "  d2Vib_axial[\"Vib_axial\" + str(i+1)] = pd.DataFrame(np.array(f2[f2['r2b']['torque05']['Vib_axial'][i,0]].value))\n",
            "<ipython-input-9-654815eadeb5>:27: H5pyDeprecationWarning: dataset.value has been deprecated. Use dataset[()] instead.\n",
            "  d2Vib_base[\"Vib_base\" + str(i+1)] = pd.DataFrame(np.array(f2[f2['r2b']['torque05']['Vib_base'][i,0]].value))\n"
          ]
        }
      ],
      "source": [
        "# saving the values of Ia, Ib, Ic, Va, Vb, Vc, Trigger, Vib_acpe, Vib_carc, Vib_acpi, Vib_axial, Vib_base for all 10 experiments\n",
        "# one dictionary for each variable for R2B\n",
        "d2Ia = {}\n",
        "d2Ib = {}\n",
        "d2Ic = {}\n",
        "d2Va = {}\n",
        "d2Vb = {}\n",
        "d2Vc = {}\n",
        "d2Trig = {}\n",
        "d2Vib_acpe = {}\n",
        "d2Vib_carc = {}\n",
        "d2Vib_acpi = {}\n",
        "d2Vib_axial = {}\n",
        "d2Vib_base = {}\n",
        "for i in range(10):\n",
        "    d2Ia[\"Ia\" + str(i+1)] = pd.DataFrame(np.array(f2[f2['r2b']['torque05']['Ia'][i,0]].value))\n",
        "    d2Ib[\"Ib\" + str(i+1)] = pd.DataFrame(np.array(f2[f2['r2b']['torque05']['Ib'][i,0]].value))\n",
        "    d2Ic[\"Ic\" + str(i+1)] = pd.DataFrame(np.array(f2[f2['r2b']['torque05']['Ic'][i,0]].value))\n",
        "    d2Va[\"Va\" + str(i+1)] = pd.DataFrame(np.array(f2[f2['r2b']['torque05']['Va'][i,0]].value))\n",
        "    d2Vb[\"Vb\" + str(i+1)] = pd.DataFrame(np.array(f2[f2['r2b']['torque05']['Vb'][i,0]].value))\n",
        "    d2Vc[\"Vc\" + str(i+1)] = pd.DataFrame(np.array(f2[f2['r2b']['torque05']['Vc'][i,0]].value))\n",
        "    d2Trig[\"Trig\" + str(i+1)] = pd.DataFrame(np.array(f2[f2['r2b']['torque05']['Trigger'][i,0]].value))\n",
        "    d2Vib_acpe[\"Vib_acpe\" + str(i+1)] = pd.DataFrame(np.array(f2[f2['r2b']['torque05']['Vib_acpe'][i,0]].value))\n",
        "    d2Vib_carc[\"Vib_carc\" + str(i+1)] = pd.DataFrame(np.array(f2[f2['r2b']['torque05']['Vib_carc'][i,0]].value))\n",
        "    d2Vib_acpi[\"Vib_acpi\" + str(i+1)] = pd.DataFrame(np.array(f2[f2['r2b']['torque05']['Vib_acpi'][i,0]].value))\n",
        "    d2Vib_axial[\"Vib_axial\" + str(i+1)] = pd.DataFrame(np.array(f2[f2['r2b']['torque05']['Vib_axial'][i,0]].value))\n",
        "    d2Vib_base[\"Vib_base\" + str(i+1)] = pd.DataFrame(np.array(f2[f2['r2b']['torque05']['Vib_base'][i,0]].value))"
      ]
    },
    {
      "cell_type": "code",
      "execution_count": null,
      "id": "a6c56a40",
      "metadata": {
        "id": "a6c56a40",
        "outputId": "6851f240-c5a1-43bb-a105-87be3fcdbcc7"
      },
      "outputs": [
        {
          "name": "stderr",
          "output_type": "stream",
          "text": [
            "<ipython-input-10-b1752ed61abc>:16: H5pyDeprecationWarning: dataset.value has been deprecated. Use dataset[()] instead.\n",
            "  d3Ia[\"Ia\" + str(i+1)] = pd.DataFrame(np.array(f3[f3['r3b']['torque05']['Ia'][i,0]].value))\n",
            "<ipython-input-10-b1752ed61abc>:17: H5pyDeprecationWarning: dataset.value has been deprecated. Use dataset[()] instead.\n",
            "  d3Ib[\"Ib\" + str(i+1)] = pd.DataFrame(np.array(f3[f3['r3b']['torque05']['Ib'][i,0]].value))\n",
            "<ipython-input-10-b1752ed61abc>:18: H5pyDeprecationWarning: dataset.value has been deprecated. Use dataset[()] instead.\n",
            "  d3Ic[\"Ic\" + str(i+1)] = pd.DataFrame(np.array(f3[f3['r3b']['torque05']['Ic'][i,0]].value))\n",
            "<ipython-input-10-b1752ed61abc>:19: H5pyDeprecationWarning: dataset.value has been deprecated. Use dataset[()] instead.\n",
            "  d3Va[\"Va\" + str(i+1)] = pd.DataFrame(np.array(f3[f3['r3b']['torque05']['Va'][i,0]].value))\n",
            "<ipython-input-10-b1752ed61abc>:20: H5pyDeprecationWarning: dataset.value has been deprecated. Use dataset[()] instead.\n",
            "  d3Vb[\"Vb\" + str(i+1)] = pd.DataFrame(np.array(f3[f3['r3b']['torque05']['Vb'][i,0]].value))\n",
            "<ipython-input-10-b1752ed61abc>:21: H5pyDeprecationWarning: dataset.value has been deprecated. Use dataset[()] instead.\n",
            "  d3Vc[\"Vc\" + str(i+1)] = pd.DataFrame(np.array(f3[f3['r3b']['torque05']['Vc'][i,0]].value))\n",
            "<ipython-input-10-b1752ed61abc>:22: H5pyDeprecationWarning: dataset.value has been deprecated. Use dataset[()] instead.\n",
            "  d3Trig[\"Trig\" + str(i+1)] = pd.DataFrame(np.array(f3[f3['r3b']['torque05']['Trigger'][i,0]].value))\n",
            "<ipython-input-10-b1752ed61abc>:23: H5pyDeprecationWarning: dataset.value has been deprecated. Use dataset[()] instead.\n",
            "  d3Vib_acpe[\"Vib_acpe\" + str(i+1)] = pd.DataFrame(np.array(f3[f3['r3b']['torque05']['Vib_acpe'][i,0]].value))\n",
            "<ipython-input-10-b1752ed61abc>:24: H5pyDeprecationWarning: dataset.value has been deprecated. Use dataset[()] instead.\n",
            "  d3Vib_carc[\"Vib_carc\" + str(i+1)] = pd.DataFrame(np.array(f3[f3['r3b']['torque05']['Vib_carc'][i,0]].value))\n",
            "<ipython-input-10-b1752ed61abc>:25: H5pyDeprecationWarning: dataset.value has been deprecated. Use dataset[()] instead.\n",
            "  d3Vib_acpi[\"Vib_acpi\" + str(i+1)] = pd.DataFrame(np.array(f3[f3['r3b']['torque05']['Vib_acpi'][i,0]].value))\n",
            "<ipython-input-10-b1752ed61abc>:26: H5pyDeprecationWarning: dataset.value has been deprecated. Use dataset[()] instead.\n",
            "  d3Vib_axial[\"Vib_axial\" + str(i+1)] = pd.DataFrame(np.array(f3[f3['r3b']['torque05']['Vib_axial'][i,0]].value))\n",
            "<ipython-input-10-b1752ed61abc>:27: H5pyDeprecationWarning: dataset.value has been deprecated. Use dataset[()] instead.\n",
            "  d3Vib_base[\"Vib_base\" + str(i+1)] = pd.DataFrame(np.array(f3[f3['r3b']['torque05']['Vib_base'][i,0]].value))\n"
          ]
        }
      ],
      "source": [
        "# saving the values of Ia, Ib, Ic, Va, Vb, Vc, Trigger, Vib_acpe, Vib_carc, Vib_acpi, Vib_axial, Vib_base for all 10 experiments\n",
        "# one dictionary for each variable for R3B\n",
        "d3Ia = {}\n",
        "d3Ib = {}\n",
        "d3Ic = {}\n",
        "d3Va = {}\n",
        "d3Vb = {}\n",
        "d3Vc = {}\n",
        "d3Trig = {}\n",
        "d3Vib_acpe = {}\n",
        "d3Vib_carc = {}\n",
        "d3Vib_acpi = {}\n",
        "d3Vib_axial = {}\n",
        "d3Vib_base = {}\n",
        "for i in range(10):\n",
        "    d3Ia[\"Ia\" + str(i+1)] = pd.DataFrame(np.array(f3[f3['r3b']['torque05']['Ia'][i,0]].value))\n",
        "    d3Ib[\"Ib\" + str(i+1)] = pd.DataFrame(np.array(f3[f3['r3b']['torque05']['Ib'][i,0]].value))\n",
        "    d3Ic[\"Ic\" + str(i+1)] = pd.DataFrame(np.array(f3[f3['r3b']['torque05']['Ic'][i,0]].value))\n",
        "    d3Va[\"Va\" + str(i+1)] = pd.DataFrame(np.array(f3[f3['r3b']['torque05']['Va'][i,0]].value))\n",
        "    d3Vb[\"Vb\" + str(i+1)] = pd.DataFrame(np.array(f3[f3['r3b']['torque05']['Vb'][i,0]].value))\n",
        "    d3Vc[\"Vc\" + str(i+1)] = pd.DataFrame(np.array(f3[f3['r3b']['torque05']['Vc'][i,0]].value))\n",
        "    d3Trig[\"Trig\" + str(i+1)] = pd.DataFrame(np.array(f3[f3['r3b']['torque05']['Trigger'][i,0]].value))\n",
        "    d3Vib_acpe[\"Vib_acpe\" + str(i+1)] = pd.DataFrame(np.array(f3[f3['r3b']['torque05']['Vib_acpe'][i,0]].value))\n",
        "    d3Vib_carc[\"Vib_carc\" + str(i+1)] = pd.DataFrame(np.array(f3[f3['r3b']['torque05']['Vib_carc'][i,0]].value))\n",
        "    d3Vib_acpi[\"Vib_acpi\" + str(i+1)] = pd.DataFrame(np.array(f3[f3['r3b']['torque05']['Vib_acpi'][i,0]].value))\n",
        "    d3Vib_axial[\"Vib_axial\" + str(i+1)] = pd.DataFrame(np.array(f3[f3['r3b']['torque05']['Vib_axial'][i,0]].value))\n",
        "    d3Vib_base[\"Vib_base\" + str(i+1)] = pd.DataFrame(np.array(f3[f3['r3b']['torque05']['Vib_base'][i,0]].value))"
      ]
    },
    {
      "cell_type": "code",
      "execution_count": null,
      "id": "982c8dff",
      "metadata": {
        "id": "982c8dff",
        "outputId": "cbf80231-973e-4b03-b5db-83662a67c4a3"
      },
      "outputs": [
        {
          "name": "stderr",
          "output_type": "stream",
          "text": [
            "<ipython-input-11-282e4ae6ad76>:16: H5pyDeprecationWarning: dataset.value has been deprecated. Use dataset[()] instead.\n",
            "  d4Ia[\"Ia\" + str(i+1)] = pd.DataFrame(np.array(f4[f4['r4b']['torque05']['Ia'][i,0]].value))\n",
            "<ipython-input-11-282e4ae6ad76>:17: H5pyDeprecationWarning: dataset.value has been deprecated. Use dataset[()] instead.\n",
            "  d4Ib[\"Ib\" + str(i+1)] = pd.DataFrame(np.array(f4[f4['r4b']['torque05']['Ib'][i,0]].value))\n",
            "<ipython-input-11-282e4ae6ad76>:18: H5pyDeprecationWarning: dataset.value has been deprecated. Use dataset[()] instead.\n",
            "  d4Ic[\"Ic\" + str(i+1)] = pd.DataFrame(np.array(f4[f4['r4b']['torque05']['Ic'][i,0]].value))\n",
            "<ipython-input-11-282e4ae6ad76>:19: H5pyDeprecationWarning: dataset.value has been deprecated. Use dataset[()] instead.\n",
            "  d4Va[\"Va\" + str(i+1)] = pd.DataFrame(np.array(f4[f4['r4b']['torque05']['Va'][i,0]].value))\n",
            "<ipython-input-11-282e4ae6ad76>:20: H5pyDeprecationWarning: dataset.value has been deprecated. Use dataset[()] instead.\n",
            "  d4Vb[\"Vb\" + str(i+1)] = pd.DataFrame(np.array(f4[f4['r4b']['torque05']['Vb'][i,0]].value))\n",
            "<ipython-input-11-282e4ae6ad76>:21: H5pyDeprecationWarning: dataset.value has been deprecated. Use dataset[()] instead.\n",
            "  d4Vc[\"Vc\" + str(i+1)] = pd.DataFrame(np.array(f4[f4['r4b']['torque05']['Vc'][i,0]].value))\n",
            "<ipython-input-11-282e4ae6ad76>:22: H5pyDeprecationWarning: dataset.value has been deprecated. Use dataset[()] instead.\n",
            "  d4Trig[\"Trig\" + str(i+1)] = pd.DataFrame(np.array(f4[f4['r4b']['torque05']['Trigger'][i,0]].value))\n",
            "<ipython-input-11-282e4ae6ad76>:23: H5pyDeprecationWarning: dataset.value has been deprecated. Use dataset[()] instead.\n",
            "  d4Vib_acpe[\"Vib_acpe\" + str(i+1)] = pd.DataFrame(np.array(f4[f4['r4b']['torque05']['Vib_acpe'][i,0]].value))\n",
            "<ipython-input-11-282e4ae6ad76>:24: H5pyDeprecationWarning: dataset.value has been deprecated. Use dataset[()] instead.\n",
            "  d4Vib_carc[\"Vib_carc\" + str(i+1)] = pd.DataFrame(np.array(f4[f4['r4b']['torque05']['Vib_carc'][i,0]].value))\n",
            "<ipython-input-11-282e4ae6ad76>:25: H5pyDeprecationWarning: dataset.value has been deprecated. Use dataset[()] instead.\n",
            "  d4Vib_acpi[\"Vib_acpi\" + str(i+1)] = pd.DataFrame(np.array(f4[f4['r4b']['torque05']['Vib_acpi'][i,0]].value))\n",
            "<ipython-input-11-282e4ae6ad76>:26: H5pyDeprecationWarning: dataset.value has been deprecated. Use dataset[()] instead.\n",
            "  d4Vib_axial[\"Vib_axial\" + str(i+1)] = pd.DataFrame(np.array(f4[f4['r4b']['torque05']['Vib_axial'][i,0]].value))\n",
            "<ipython-input-11-282e4ae6ad76>:27: H5pyDeprecationWarning: dataset.value has been deprecated. Use dataset[()] instead.\n",
            "  d4Vib_base[\"Vib_base\" + str(i+1)] = pd.DataFrame(np.array(f4[f4['r4b']['torque05']['Vib_base'][i,0]].value))\n"
          ]
        }
      ],
      "source": [
        "# saving the values of Ia, Ib, Ic, Va, Vb, Vc, Trigger, Vib_acpe, Vib_carc, Vib_acpi, Vib_axial, Vib_base for all 10 experiments\n",
        "# one dictionary for each variable for R4B\n",
        "d4Ia = {}\n",
        "d4Ib = {}\n",
        "d4Ic = {}\n",
        "d4Va = {}\n",
        "d4Vb = {}\n",
        "d4Vc = {}\n",
        "d4Trig = {}\n",
        "d4Vib_acpe = {}\n",
        "d4Vib_carc = {}\n",
        "d4Vib_acpi = {}\n",
        "d4Vib_axial = {}\n",
        "d4Vib_base = {}\n",
        "for i in range(10):\n",
        "    d4Ia[\"Ia\" + str(i+1)] = pd.DataFrame(np.array(f4[f4['r4b']['torque05']['Ia'][i,0]].value))\n",
        "    d4Ib[\"Ib\" + str(i+1)] = pd.DataFrame(np.array(f4[f4['r4b']['torque05']['Ib'][i,0]].value))\n",
        "    d4Ic[\"Ic\" + str(i+1)] = pd.DataFrame(np.array(f4[f4['r4b']['torque05']['Ic'][i,0]].value))\n",
        "    d4Va[\"Va\" + str(i+1)] = pd.DataFrame(np.array(f4[f4['r4b']['torque05']['Va'][i,0]].value))\n",
        "    d4Vb[\"Vb\" + str(i+1)] = pd.DataFrame(np.array(f4[f4['r4b']['torque05']['Vb'][i,0]].value))\n",
        "    d4Vc[\"Vc\" + str(i+1)] = pd.DataFrame(np.array(f4[f4['r4b']['torque05']['Vc'][i,0]].value))\n",
        "    d4Trig[\"Trig\" + str(i+1)] = pd.DataFrame(np.array(f4[f4['r4b']['torque05']['Trigger'][i,0]].value))\n",
        "    d4Vib_acpe[\"Vib_acpe\" + str(i+1)] = pd.DataFrame(np.array(f4[f4['r4b']['torque05']['Vib_acpe'][i,0]].value))\n",
        "    d4Vib_carc[\"Vib_carc\" + str(i+1)] = pd.DataFrame(np.array(f4[f4['r4b']['torque05']['Vib_carc'][i,0]].value))\n",
        "    d4Vib_acpi[\"Vib_acpi\" + str(i+1)] = pd.DataFrame(np.array(f4[f4['r4b']['torque05']['Vib_acpi'][i,0]].value))\n",
        "    d4Vib_axial[\"Vib_axial\" + str(i+1)] = pd.DataFrame(np.array(f4[f4['r4b']['torque05']['Vib_axial'][i,0]].value))\n",
        "    d4Vib_base[\"Vib_base\" + str(i+1)] = pd.DataFrame(np.array(f4[f4['r4b']['torque05']['Vib_base'][i,0]].value))"
      ]
    },
    {
      "cell_type": "code",
      "execution_count": null,
      "id": "ea5a4e14",
      "metadata": {
        "id": "ea5a4e14"
      },
      "outputs": [],
      "source": [
        "# initializing empty dataframes to save the values\n",
        "df_rs_t5 = pd.DataFrame(columns=['Ia', 'Ib', 'Ic','Va','Vb','Vc','Trig','Vib_acpe','Vib_carc','Vib_acpi','Vib_axial','Vib_base'], index=range(1000000))\n",
        "df_r1b_t5 = pd.DataFrame(columns=['Ia', 'Ib', 'Ic','Va','Vb','Vc','Trig','Vib_acpe','Vib_carc','Vib_acpi','Vib_axial','Vib_base'], index=range(1000000))\n",
        "df_r2b_t5 = pd.DataFrame(columns=['Ia', 'Ib', 'Ic','Va','Vb','Vc','Trig','Vib_acpe','Vib_carc','Vib_acpi','Vib_axial','Vib_base'], index=range(1000000))\n",
        "df_r3b_t5 = pd.DataFrame(columns=['Ia', 'Ib', 'Ic','Va','Vb','Vc','Trig','Vib_acpe','Vib_carc','Vib_acpi','Vib_axial','Vib_base'], index=range(1000000))\n",
        "df_r4b_t5 = pd.DataFrame(columns=['Ia', 'Ib', 'Ic','Va','Vb','Vc','Trig','Vib_acpe','Vib_carc','Vib_acpi','Vib_axial','Vib_base'], index=range(1000000))"
      ]
    },
    {
      "cell_type": "code",
      "execution_count": null,
      "id": "5eff5d7b",
      "metadata": {
        "id": "5eff5d7b",
        "outputId": "82927182-6c7f-4205-9be3-758e175e3f63"
      },
      "outputs": [
        {
          "name": "stdout",
          "output_type": "stream",
          "text": [
            "              0\n",
            "0      0.016667\n",
            "1      0.008333\n",
            "2      0.000000\n",
            "3     -0.008333\n",
            "4      0.004167\n",
            "...         ...\n",
            "99995  0.004167\n",
            "99996  0.004167\n",
            "99997 -0.008333\n",
            "99998  0.008333\n",
            "99999  0.000000\n",
            "\n",
            "[100000 rows x 1 columns]\n"
          ]
        }
      ],
      "source": [
        "print((dsIa['Ia1'].T)[:100000])"
      ]
    },
    {
      "cell_type": "code",
      "execution_count": null,
      "id": "9ce4baf8",
      "metadata": {
        "id": "9ce4baf8"
      },
      "outputs": [],
      "source": [
        "# a_d = []\n",
        "# for i in range(10):\n",
        "#     a_d.append(dsIa['Ia'+str(i+1)].T)\n",
        "# a_d_df = pd.concat(a_d).reset_index(drop=True)\n",
        "# print(a_d)\n",
        "# print(a_d_df)"
      ]
    },
    {
      "cell_type": "code",
      "execution_count": null,
      "id": "a9581b80",
      "metadata": {
        "id": "a9581b80"
      },
      "outputs": [],
      "source": [
        "# concatenating the data for each variable for all the experiments for RS\n",
        "a_l_Ia = []\n",
        "a_l_Ib = []\n",
        "a_l_Ic = []\n",
        "a_l_Va = []\n",
        "a_l_Vb = []\n",
        "a_l_Vc = []\n",
        "a_l_Trig = []\n",
        "a_l_Vib_acpe = []\n",
        "a_l_Vib_carc = []\n",
        "a_l_Vib_acpi = []\n",
        "a_l_Vib_axial = []\n",
        "a_l_Vib_base = []\n",
        "for i in range(10):\n",
        "    a_l_Ia.append(dsIa['Ia'+str(i+1)].T[0:100000])\n",
        "    a_l_Ib.append(dsIb['Ib'+str(i+1)].T[0:100000])\n",
        "    a_l_Ic.append(dsIc['Ic'+str(i+1)].T[0:100000])\n",
        "    a_l_Va.append(dsVa['Va'+str(i+1)].T[0:100000])\n",
        "    a_l_Vb.append(dsVb['Vb'+str(i+1)].T[0:100000])\n",
        "    a_l_Vc.append(dsVc['Vc'+str(i+1)].T[0:100000])\n",
        "    a_l_Trig.append(dsTrig['Trig'+str(i+1)].T[0:100000])\n",
        "    a_l_Vib_acpe.append(dsVib_acpe['Vib_acpe'+str(i+1)].T[0:100000])\n",
        "    a_l_Vib_carc.append(dsVib_carc['Vib_carc'+str(i+1)].T[0:100000])\n",
        "    a_l_Vib_acpi.append(dsVib_acpi['Vib_acpi'+str(i+1)].T[0:100000])\n",
        "    a_l_Vib_axial.append(dsVib_axial['Vib_axial'+str(i+1)].T[0:100000])\n",
        "    a_l_Vib_base.append(dsVib_base['Vib_base'+str(i+1)].T[0:100000])\n",
        "a_l_Ia_df = pd.concat(a_l_Ia).reset_index(drop=True)\n",
        "a_l_Ib_df = pd.concat(a_l_Ib).reset_index(drop=True)\n",
        "a_l_Ic_df = pd.concat(a_l_Ic).reset_index(drop=True)\n",
        "a_l_Va_df = pd.concat(a_l_Va).reset_index(drop=True)\n",
        "a_l_Vb_df = pd.concat(a_l_Vb).reset_index(drop=True)\n",
        "a_l_Vc_df = pd.concat(a_l_Vc).reset_index(drop=True)\n",
        "a_l_Trig_df = pd.concat(a_l_Trig).reset_index(drop=True)\n",
        "a_l_Vib_acpe_df = pd.concat(a_l_Vib_acpe).reset_index(drop=True)\n",
        "a_l_Vib_acpi_df = pd.concat(a_l_Vib_acpi).reset_index(drop=True)\n",
        "a_l_Vib_carc_df = pd.concat(a_l_Vib_carc).reset_index(drop=True)\n",
        "a_l_Vib_axial_df = pd.concat(a_l_Vib_axial).reset_index(drop=True)\n",
        "a_l_Vib_base_df = pd.concat(a_l_Vib_base).reset_index(drop=True)"
      ]
    },
    {
      "cell_type": "code",
      "execution_count": null,
      "id": "fec56b9d",
      "metadata": {
        "id": "fec56b9d"
      },
      "outputs": [],
      "source": [
        "# saving the values for RS (only first 100000 rows of each experiment, 10 experiments total)\n",
        "df_rs_t5['Ia'] = a_l_Ia_df\n",
        "df_rs_t5['Ib'] = a_l_Ib_df\n",
        "df_rs_t5['Ic'] = a_l_Ic_df\n",
        "df_rs_t5['Va'] = a_l_Va_df\n",
        "df_rs_t5['Vb'] = a_l_Vb_df\n",
        "df_rs_t5['Vc'] = a_l_Vc_df\n",
        "df_rs_t5['Trig'] = a_l_Trig_df\n",
        "df_rs_t5['Vib_acpe'] = a_l_Vib_acpe_df\n",
        "df_rs_t5['Vib_carc'] = a_l_Vib_carc_df\n",
        "df_rs_t5['Vib_acpi'] = a_l_Vib_acpi_df\n",
        "df_rs_t5['Vib_axial'] = a_l_Vib_axial_df\n",
        "df_rs_t5['Vib_base'] = a_l_Vib_base_df"
      ]
    },
    {
      "cell_type": "code",
      "execution_count": null,
      "id": "e41363f6",
      "metadata": {
        "id": "e41363f6"
      },
      "outputs": [],
      "source": [
        "# concatenating the data for all the variables for all the experiments for R1B\n",
        "a_l_Ia_r1 = []\n",
        "a_l_Ib_r1 = []\n",
        "a_l_Ic_r1 = []\n",
        "a_l_Va_r1 = []\n",
        "a_l_Vb_r1 = []\n",
        "a_l_Vc_r1 = []\n",
        "a_l_Trig_r1 = []\n",
        "a_l_Vib_acpe_r1 = []\n",
        "a_l_Vib_carc_r1 = []\n",
        "a_l_Vib_acpi_r1 = []\n",
        "a_l_Vib_axial_r1 = []\n",
        "a_l_Vib_base_r1 = []\n",
        "for i in range(10):\n",
        "    a_l_Ia_r1.append(d1Ia['Ia'+str(i+1)].T[0:100000])\n",
        "    a_l_Ib_r1.append(d1Ib['Ib'+str(i+1)].T[0:100000])\n",
        "    a_l_Ic_r1.append(d1Ic['Ic'+str(i+1)].T[0:100000])\n",
        "    a_l_Va_r1.append(d1Va['Va'+str(i+1)].T[0:100000])\n",
        "    a_l_Vb_r1.append(d1Vb['Vb'+str(i+1)].T[0:100000])\n",
        "    a_l_Vc_r1.append(d1Vc['Vc'+str(i+1)].T[0:100000])\n",
        "    a_l_Trig_r1.append(d1Trig['Trig'+str(i+1)].T[0:100000])\n",
        "    a_l_Vib_acpe_r1.append(d1Vib_acpe['Vib_acpe'+str(i+1)].T[0:100000])\n",
        "    a_l_Vib_carc_r1.append(d1Vib_carc['Vib_carc'+str(i+1)].T[0:100000])\n",
        "    a_l_Vib_acpi_r1.append(d1Vib_acpi['Vib_acpi'+str(i+1)].T[0:100000])\n",
        "    a_l_Vib_axial_r1.append(d1Vib_axial['Vib_axial'+str(i+1)].T[0:100000])\n",
        "    a_l_Vib_base_r1.append(d1Vib_base['Vib_base'+str(i+1)].T[0:100000])\n",
        "a_l_Ia_r1_df = pd.concat(a_l_Ia_r1).reset_index(drop=True)\n",
        "a_l_Ib_r1_df = pd.concat(a_l_Ib_r1).reset_index(drop=True)\n",
        "a_l_Ic_r1_df = pd.concat(a_l_Ic_r1).reset_index(drop=True)\n",
        "a_l_Va_r1_df = pd.concat(a_l_Va_r1).reset_index(drop=True)\n",
        "a_l_Vb_r1_df = pd.concat(a_l_Vb_r1).reset_index(drop=True)\n",
        "a_l_Vc_r1_df = pd.concat(a_l_Vc_r1).reset_index(drop=True)\n",
        "a_l_Trig_r1_df = pd.concat(a_l_Trig_r1).reset_index(drop=True)\n",
        "a_l_Vib_acpe_r1_df = pd.concat(a_l_Vib_acpe_r1).reset_index(drop=True)\n",
        "a_l_Vib_acpi_r1_df = pd.concat(a_l_Vib_acpi_r1).reset_index(drop=True)\n",
        "a_l_Vib_carc_r1_df = pd.concat(a_l_Vib_carc_r1).reset_index(drop=True)\n",
        "a_l_Vib_axial_r1_df = pd.concat(a_l_Vib_axial_r1).reset_index(drop=True)\n",
        "a_l_Vib_base_r1_df = pd.concat(a_l_Vib_base_r1).reset_index(drop=True)"
      ]
    },
    {
      "cell_type": "code",
      "execution_count": null,
      "id": "ea02a858",
      "metadata": {
        "id": "ea02a858"
      },
      "outputs": [],
      "source": [
        "# saving the values for RS (only first 100000 rows of each experiment, 10 experiments total)\n",
        "df_r1b_t5['Ia'] = a_l_Ia_r1_df\n",
        "df_r1b_t5['Ib'] = a_l_Ib_r1_df\n",
        "df_r1b_t5['Ic'] = a_l_Ic_r1_df\n",
        "df_r1b_t5['Va'] = a_l_Va_r1_df\n",
        "df_r1b_t5['Vb'] = a_l_Vb_r1_df\n",
        "df_r1b_t5['Vc'] = a_l_Vc_r1_df\n",
        "df_r1b_t5['Trig'] = a_l_Trig_r1_df\n",
        "df_r1b_t5['Vib_acpe'] = a_l_Vib_acpe_r1_df\n",
        "df_r1b_t5['Vib_carc'] = a_l_Vib_carc_r1_df\n",
        "df_r1b_t5['Vib_acpi'] = a_l_Vib_acpi_r1_df\n",
        "df_r1b_t5['Vib_axial'] = a_l_Vib_axial_r1_df\n",
        "df_r1b_t5['Vib_base'] = a_l_Vib_base_r1_df"
      ]
    },
    {
      "cell_type": "code",
      "execution_count": null,
      "id": "8071b082",
      "metadata": {
        "id": "8071b082"
      },
      "outputs": [],
      "source": [
        "# concatenating the data for all the variables for all the experiments for R2B\n",
        "a_l_Ia_r2 = []\n",
        "a_l_Ib_r2 = []\n",
        "a_l_Ic_r2 = []\n",
        "a_l_Va_r2 = []\n",
        "a_l_Vb_r2 = []\n",
        "a_l_Vc_r2 = []\n",
        "a_l_Trig_r2 = []\n",
        "a_l_Vib_acpe_r2 = []\n",
        "a_l_Vib_carc_r2 = []\n",
        "a_l_Vib_acpi_r2 = []\n",
        "a_l_Vib_axial_r2 = []\n",
        "a_l_Vib_base_r2 = []\n",
        "for i in range(10):\n",
        "    a_l_Ia_r2.append(d2Ia['Ia'+str(i+1)].T[0:100000])\n",
        "    a_l_Ib_r2.append(d2Ib['Ib'+str(i+1)].T[0:100000])\n",
        "    a_l_Ic_r2.append(d2Ic['Ic'+str(i+1)].T[0:100000])\n",
        "    a_l_Va_r2.append(d2Va['Va'+str(i+1)].T[0:100000])\n",
        "    a_l_Vb_r2.append(d2Vb['Vb'+str(i+1)].T[0:100000])\n",
        "    a_l_Vc_r2.append(d2Vc['Vc'+str(i+1)].T[0:100000])\n",
        "    a_l_Trig_r2.append(d2Trig['Trig'+str(i+1)].T[0:100000])\n",
        "    a_l_Vib_acpe_r2.append(d2Vib_acpe['Vib_acpe'+str(i+1)].T[0:100000])\n",
        "    a_l_Vib_carc_r2.append(d2Vib_carc['Vib_carc'+str(i+1)].T[0:100000])\n",
        "    a_l_Vib_acpi_r2.append(d2Vib_acpi['Vib_acpi'+str(i+1)].T[0:100000])\n",
        "    a_l_Vib_axial_r2.append(d2Vib_axial['Vib_axial'+str(i+1)].T[0:100000])\n",
        "    a_l_Vib_base_r2.append(d2Vib_base['Vib_base'+str(i+1)].T[0:100000])\n",
        "a_l_Ia_r2_df = pd.concat(a_l_Ia_r2).reset_index(drop=True)\n",
        "a_l_Ib_r2_df = pd.concat(a_l_Ib_r2).reset_index(drop=True)\n",
        "a_l_Ic_r2_df = pd.concat(a_l_Ic_r2).reset_index(drop=True)\n",
        "a_l_Va_r2_df = pd.concat(a_l_Va_r2).reset_index(drop=True)\n",
        "a_l_Vb_r2_df = pd.concat(a_l_Vb_r2).reset_index(drop=True)\n",
        "a_l_Vc_r2_df = pd.concat(a_l_Vc_r2).reset_index(drop=True)\n",
        "a_l_Trig_r2_df = pd.concat(a_l_Trig_r2).reset_index(drop=True)\n",
        "a_l_Vib_acpe_r2_df = pd.concat(a_l_Vib_acpe_r2).reset_index(drop=True)\n",
        "a_l_Vib_acpi_r2_df = pd.concat(a_l_Vib_acpi_r2).reset_index(drop=True)\n",
        "a_l_Vib_carc_r2_df = pd.concat(a_l_Vib_carc_r2).reset_index(drop=True)\n",
        "a_l_Vib_axial_r2_df = pd.concat(a_l_Vib_axial_r2).reset_index(drop=True)\n",
        "a_l_Vib_base_r2_df = pd.concat(a_l_Vib_base_r2).reset_index(drop=True)"
      ]
    },
    {
      "cell_type": "code",
      "execution_count": null,
      "id": "f4b1deab",
      "metadata": {
        "id": "f4b1deab"
      },
      "outputs": [],
      "source": [
        "# saving the values for RS (only first 100000 rows of each experiment, 10 experiments total)\n",
        "df_r2b_t5['Ia'] = a_l_Ia_r2_df\n",
        "df_r2b_t5['Ib'] = a_l_Ib_r2_df\n",
        "df_r2b_t5['Ic'] = a_l_Ic_r2_df\n",
        "df_r2b_t5['Va'] = a_l_Va_r2_df\n",
        "df_r2b_t5['Vb'] = a_l_Vb_r2_df\n",
        "df_r2b_t5['Vc'] = a_l_Vc_r2_df\n",
        "df_r2b_t5['Trig'] = a_l_Trig_r2_df\n",
        "df_r2b_t5['Vib_acpe'] = a_l_Vib_acpe_r2_df\n",
        "df_r2b_t5['Vib_carc'] = a_l_Vib_carc_r2_df\n",
        "df_r2b_t5['Vib_acpi'] = a_l_Vib_acpi_r2_df\n",
        "df_r2b_t5['Vib_axial'] = a_l_Vib_axial_r2_df\n",
        "df_r2b_t5['Vib_base'] = a_l_Vib_base_r2_df"
      ]
    },
    {
      "cell_type": "code",
      "execution_count": null,
      "id": "2083ca61",
      "metadata": {
        "id": "2083ca61"
      },
      "outputs": [],
      "source": [
        "# concatenating the data for all the variables for all the experiments for R3B\n",
        "a_l_Ia_r3 = []\n",
        "a_l_Ib_r3 = []\n",
        "a_l_Ic_r3 = []\n",
        "a_l_Va_r3 = []\n",
        "a_l_Vb_r3 = []\n",
        "a_l_Vc_r3 = []\n",
        "a_l_Trig_r3 = []\n",
        "a_l_Vib_acpe_r3 = []\n",
        "a_l_Vib_carc_r3 = []\n",
        "a_l_Vib_acpi_r3 = []\n",
        "a_l_Vib_axial_r3 = []\n",
        "a_l_Vib_base_r3 = []\n",
        "for i in range(10):\n",
        "    a_l_Ia_r3.append(d3Ia['Ia'+str(i+1)].T[0:100000])\n",
        "    a_l_Ib_r3.append(d3Ib['Ib'+str(i+1)].T[0:100000])\n",
        "    a_l_Ic_r3.append(d3Ic['Ic'+str(i+1)].T[0:100000])\n",
        "    a_l_Va_r3.append(d3Va['Va'+str(i+1)].T[0:100000])\n",
        "    a_l_Vb_r3.append(d3Vb['Vb'+str(i+1)].T[0:100000])\n",
        "    a_l_Vc_r3.append(d3Vc['Vc'+str(i+1)].T[0:100000])\n",
        "    a_l_Trig_r3.append(d3Trig['Trig'+str(i+1)].T[0:100000])\n",
        "    a_l_Vib_acpe_r3.append(d3Vib_acpe['Vib_acpe'+str(i+1)].T[0:100000])\n",
        "    a_l_Vib_carc_r3.append(d3Vib_carc['Vib_carc'+str(i+1)].T[0:100000])\n",
        "    a_l_Vib_acpi_r3.append(d3Vib_acpi['Vib_acpi'+str(i+1)].T[0:100000])\n",
        "    a_l_Vib_axial_r3.append(d3Vib_axial['Vib_axial'+str(i+1)].T[0:100000])\n",
        "    a_l_Vib_base_r3.append(d3Vib_base['Vib_base'+str(i+1)].T[0:100000])\n",
        "a_l_Ia_r3_df = pd.concat(a_l_Ia_r3).reset_index(drop=True)\n",
        "a_l_Ib_r3_df = pd.concat(a_l_Ib_r3).reset_index(drop=True)\n",
        "a_l_Ic_r3_df = pd.concat(a_l_Ic_r3).reset_index(drop=True)\n",
        "a_l_Va_r3_df = pd.concat(a_l_Va_r3).reset_index(drop=True)\n",
        "a_l_Vb_r3_df = pd.concat(a_l_Vb_r3).reset_index(drop=True)\n",
        "a_l_Vc_r3_df = pd.concat(a_l_Vc_r3).reset_index(drop=True)\n",
        "a_l_Trig_r3_df = pd.concat(a_l_Trig_r3).reset_index(drop=True)\n",
        "a_l_Vib_acpe_r3_df = pd.concat(a_l_Vib_acpe_r3).reset_index(drop=True)\n",
        "a_l_Vib_acpi_r3_df = pd.concat(a_l_Vib_acpi_r3).reset_index(drop=True)\n",
        "a_l_Vib_carc_r3_df = pd.concat(a_l_Vib_carc_r3).reset_index(drop=True)\n",
        "a_l_Vib_axial_r3_df = pd.concat(a_l_Vib_axial_r3).reset_index(drop=True)\n",
        "a_l_Vib_base_r3_df = pd.concat(a_l_Vib_base_r3).reset_index(drop=True)"
      ]
    },
    {
      "cell_type": "code",
      "execution_count": null,
      "id": "38416e78",
      "metadata": {
        "id": "38416e78"
      },
      "outputs": [],
      "source": [
        "# saving the values for RS (only first 100000 rows of each experiment, 10 experiments total)\n",
        "df_r3b_t5['Ia'] = a_l_Ia_r3_df\n",
        "df_r3b_t5['Ib'] = a_l_Ib_r3_df\n",
        "df_r3b_t5['Ic'] = a_l_Ic_r3_df\n",
        "df_r3b_t5['Va'] = a_l_Va_r3_df\n",
        "df_r3b_t5['Vb'] = a_l_Vb_r3_df\n",
        "df_r3b_t5['Vc'] = a_l_Vc_r3_df\n",
        "df_r3b_t5['Trig'] = a_l_Trig_r3_df\n",
        "df_r3b_t5['Vib_acpe'] = a_l_Vib_acpe_r3_df\n",
        "df_r3b_t5['Vib_carc'] = a_l_Vib_carc_r3_df\n",
        "df_r3b_t5['Vib_acpi'] = a_l_Vib_acpi_r3_df\n",
        "df_r3b_t5['Vib_axial'] = a_l_Vib_axial_r3_df\n",
        "df_r3b_t5['Vib_base'] = a_l_Vib_base_r3_df"
      ]
    },
    {
      "cell_type": "code",
      "execution_count": null,
      "id": "25b2d5b6",
      "metadata": {
        "id": "25b2d5b6"
      },
      "outputs": [],
      "source": [
        "# concatenating the data for all the variables for all the experiments for R4B\n",
        "a_l_Ia_r4 = []\n",
        "a_l_Ib_r4 = []\n",
        "a_l_Ic_r4 = []\n",
        "a_l_Va_r4 = []\n",
        "a_l_Vb_r4 = []\n",
        "a_l_Vc_r4 = []\n",
        "a_l_Trig_r4 = []\n",
        "a_l_Vib_acpe_r4 = []\n",
        "a_l_Vib_carc_r4 = []\n",
        "a_l_Vib_acpi_r4 = []\n",
        "a_l_Vib_axial_r4 = []\n",
        "a_l_Vib_base_r4 = []\n",
        "for i in range(10):\n",
        "    a_l_Ia_r4.append(d4Ia['Ia'+str(i+1)].T[0:100000])\n",
        "    a_l_Ib_r4.append(d4Ib['Ib'+str(i+1)].T[0:100000])\n",
        "    a_l_Ic_r4.append(d4Ic['Ic'+str(i+1)].T[0:100000])\n",
        "    a_l_Va_r4.append(d4Va['Va'+str(i+1)].T[0:100000])\n",
        "    a_l_Vb_r4.append(d4Vb['Vb'+str(i+1)].T[0:100000])\n",
        "    a_l_Vc_r4.append(d4Vc['Vc'+str(i+1)].T[0:100000])\n",
        "    a_l_Trig_r4.append(d4Trig['Trig'+str(i+1)].T[0:100000])\n",
        "    a_l_Vib_acpe_r4.append(d4Vib_acpe['Vib_acpe'+str(i+1)].T[0:100000])\n",
        "    a_l_Vib_carc_r4.append(d4Vib_carc['Vib_carc'+str(i+1)].T[0:100000])\n",
        "    a_l_Vib_acpi_r4.append(d4Vib_acpi['Vib_acpi'+str(i+1)].T[0:100000])\n",
        "    a_l_Vib_axial_r4.append(d4Vib_axial['Vib_axial'+str(i+1)].T[0:100000])\n",
        "    a_l_Vib_base_r4.append(d4Vib_base['Vib_base'+str(i+1)].T[0:100000])\n",
        "a_l_Ia_r4_df = pd.concat(a_l_Ia_r4).reset_index(drop=True)\n",
        "a_l_Ib_r4_df = pd.concat(a_l_Ib_r4).reset_index(drop=True)\n",
        "a_l_Ic_r4_df = pd.concat(a_l_Ic_r4).reset_index(drop=True)\n",
        "a_l_Va_r4_df = pd.concat(a_l_Va_r4).reset_index(drop=True)\n",
        "a_l_Vb_r4_df = pd.concat(a_l_Vb_r4).reset_index(drop=True)\n",
        "a_l_Vc_r4_df = pd.concat(a_l_Vc_r4).reset_index(drop=True)\n",
        "a_l_Trig_r4_df = pd.concat(a_l_Trig_r4).reset_index(drop=True)\n",
        "a_l_Vib_acpe_r4_df = pd.concat(a_l_Vib_acpe_r4).reset_index(drop=True)\n",
        "a_l_Vib_acpi_r4_df = pd.concat(a_l_Vib_acpi_r4).reset_index(drop=True)\n",
        "a_l_Vib_carc_r4_df = pd.concat(a_l_Vib_carc_r4).reset_index(drop=True)\n",
        "a_l_Vib_axial_r4_df = pd.concat(a_l_Vib_axial_r4).reset_index(drop=True)\n",
        "a_l_Vib_base_r4_df = pd.concat(a_l_Vib_base_r4).reset_index(drop=True)"
      ]
    },
    {
      "cell_type": "code",
      "execution_count": null,
      "id": "660c4a33",
      "metadata": {
        "id": "660c4a33"
      },
      "outputs": [],
      "source": [
        "# saving the values for RS (only first 100000 rows of each experiment, 10 experiments total)\n",
        "df_r4b_t5['Ia'] = a_l_Ia_r4_df\n",
        "df_r4b_t5['Ib'] = a_l_Ib_r4_df\n",
        "df_r4b_t5['Ic'] = a_l_Ic_r4_df\n",
        "df_r4b_t5['Va'] = a_l_Va_r4_df\n",
        "df_r4b_t5['Vb'] = a_l_Vb_r4_df\n",
        "df_r4b_t5['Vc'] = a_l_Vc_r4_df\n",
        "df_r4b_t5['Trig'] = a_l_Trig_r4_df\n",
        "df_r4b_t5['Vib_acpe'] = a_l_Vib_acpe_r4_df\n",
        "df_r4b_t5['Vib_carc'] = a_l_Vib_carc_r4_df\n",
        "df_r4b_t5['Vib_acpi'] = a_l_Vib_acpi_r4_df\n",
        "df_r4b_t5['Vib_axial'] = a_l_Vib_axial_r4_df\n",
        "df_r4b_t5['Vib_base'] = a_l_Vib_base_r4_df"
      ]
    },
    {
      "cell_type": "code",
      "execution_count": null,
      "id": "ad9db83a",
      "metadata": {
        "id": "ad9db83a"
      },
      "outputs": [],
      "source": [
        "# saving all the dataframes in .csv file\n",
        "df_rs_t5.to_csv('df_rs_t5.csv',index=False) \n",
        "df_r1b_t5.to_csv('df_r1b_t5.csv',index=False)\n",
        "df_r2b_t5.to_csv('df_r2b_t5.csv',index=False) \n",
        "df_r3b_t5.to_csv('df_r3b_t5.csv',index=False) \n",
        "df_r4b_t5.to_csv('df_r4b_t5.csv',index=False)"
      ]
    },
    {
      "cell_type": "code",
      "execution_count": null,
      "id": "d96219d5",
      "metadata": {
        "id": "d96219d5"
      },
      "outputs": [],
      "source": [
        "# https://docs.h5py.org/en/latest/refs.html\n",
        "# https://stackoverflow.com/questions/19310808/how-to-read-a-v7-3-mat-file-via-h5py"
      ]
    }
  ],
  "metadata": {
    "kernelspec": {
      "display_name": "Python 3",
      "language": "python",
      "name": "python3"
    },
    "language_info": {
      "codemirror_mode": {
        "name": "ipython",
        "version": 3
      },
      "file_extension": ".py",
      "mimetype": "text/x-python",
      "name": "python",
      "nbconvert_exporter": "python",
      "pygments_lexer": "ipython3",
      "version": "3.8.8"
    },
    "colab": {
      "name": "Shikha_Patel_dataset_prep_notebook.ipynb",
      "provenance": []
    }
  },
  "nbformat": 4,
  "nbformat_minor": 5
}